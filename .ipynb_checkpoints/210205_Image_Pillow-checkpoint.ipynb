{
 "cells": [
  {
   "cell_type": "code",
   "execution_count": 7,
   "metadata": {},
   "outputs": [
    {
     "data": {
      "image/png": "[encoded data removed]",
      "text/plain": [
       "<PIL.Image.Image image mode=1 size=1152x648 at 0x14E946FEC40>"
      ]
     },
     "execution_count": 7,
     "metadata": {},
     "output_type": "execute_result"
    }
   ],
   "source": [
    "import numpy as np\n",
    "from PIL import Image\n",
    "img = Image.open('sample.bmp')\n",
    "#np.array(img)\n",
    "img.getpixel((1,1))  \n",
    "pix_arr = np.array(img)\n",
    "Image.fromarray(pix_arr)"
   ]
  },
  {
   "cell_type": "code",
   "execution_count": 18,
   "metadata": {},
   "outputs": [
    {
     "name": "stdout",
     "output_type": "stream",
     "text": [
      "(255, 255, 255)\n"
     ]
    }
   ],
   "source": [
    "def save_image(image,path):\n",
    "    image.save(path,'png')\n",
    "\n",
    "# Create a new image with the given size\n",
    "def create_image(i,j):\n",
    "    image = Image.new(\"RGB\",(i,j),\"white\")\n",
    "    return image\n",
    "\n",
    "# Get the pixel from the given image\n",
    "def get_pixel(image,i,j):\n",
    "    # Inside image bounds?\n",
    "    width, height = image.size\n",
    "    if i > width or j > height:\n",
    "        return None\n",
    "    \n",
    "    # Get Pixel\n",
    "    pixel = image.getpixel((i,j))\n",
    "    return pixel\n",
    "\n",
    "gray = Image.new('L',(5,5),'black')\n",
    "gray.putpixel((0,2),255)\n"
   ]
  },
  {
   "cell_type": "code",
   "execution_count": 21,
   "metadata": {
    "scrolled": true
   },
   "outputs": [
    {
     "data": {
      "image/png": "[encoded data removed]",
      "text/plain": [
       "<PIL.Image.Image image mode=L size=150x150 at 0x14E95CB7EB0>"
      ]
     },
     "execution_count": 21,
     "metadata": {},
     "output_type": "execute_result"
    }
   ],
   "source": [
    "gray = Image.new('L',(150,150))\n",
    "width, height = gray.size\n",
    "\n",
    "for x in range(width) :\n",
    "    gray.putpixel((x,x), (255))\n",
    "a = 0\n",
    "for x in range(width-1,0,-1) :\n",
    "    gray.putpixel((a,x), (255))\n",
    "    a = a + 1\n",
    "    \n",
    "gray"
   ]
  },
  {
   "cell_type": "code",
   "execution_count": 60,
   "metadata": {
    "scrolled": true
   },
   "outputs": [
    {
     "data": {
      "image/png": "[encoded data removed]",
      "text/plain": [
       "<PIL.Image.Image image mode=RGB size=50x50 at 0x14E96BF68B0>"
      ]
     },
     "metadata": {},
     "output_type": "display_data"
    },
    {
     "data": {
      "image/png": "[encoded data removed]",
      "text/plain": [
       "<PIL.Image.Image image mode=RGB size=50x50 at 0x14E96B7E940>"
      ]
     },
     "metadata": {},
     "output_type": "display_data"
    },
    {
     "data": {
      "image/png": "[encoded data removed]",
      "text/plain": [
       "<PIL.Image.Image image mode=RGB size=50x50 at 0x14E96B7E6A0>"
      ]
     },
     "metadata": {},
     "output_type": "display_data"
    },
    {
     "data": {
      "image/png": "[encoded data removed]",
      "text/plain": [
       "<PIL.Image.Image image mode=RGB size=50x50 at 0x14E95D16F70>"
      ]
     },
     "metadata": {},
     "output_type": "display_data"
    },
    {
     "data": {
      "image/png": "[encoded data removed]",
      "text/plain": [
       "<PIL.Image.Image image mode=RGB size=50x50 at 0x14E95D165B0>"
      ]
     },
     "metadata": {},
     "output_type": "display_data"
    }
   ],
   "source": [
    "cimg = Image.new('RGB',(50,50),'blue')\n",
    "w, h = cimg.size\n",
    "\n",
    "for y in range(h):\n",
    "    for x in range(w):\n",
    "        cimg.putpixel((x,y),(x*2+y*3,y*2,255-(y*5),255))\n",
    "display(cimg)\n",
    "for i in range(4):\n",
    "    cimg = cimg.rotate(-90)\n",
    "    display(cimg)"
   ]
  },
  {
   "cell_type": "code",
   "execution_count": 64,
   "metadata": {
    "scrolled": true
   },
   "outputs": [
    {
     "name": "stdout",
     "output_type": "stream",
     "text": [
      "Training Samples: 60000\n",
      "Testing Samples: 10000\n",
      "Height: 28 x Width:28\n",
      "Epoch 1/10\n",
      "300/300 [==============================] - 74s 242ms/step - loss: 0.5487 - accuracy: 0.8377 - val_loss: 0.0510 - val_accuracy: 0.9854\n",
      "Epoch 2/10\n",
      "300/300 [==============================] - 71s 238ms/step - loss: 0.0647 - accuracy: 0.9796 - val_loss: 0.0380 - val_accuracy: 0.9881\n",
      "Epoch 3/10\n",
      "300/300 [==============================] - 75s 249ms/step - loss: 0.0475 - accuracy: 0.9860 - val_loss: 0.0349 - val_accuracy: 0.9891\n",
      "Epoch 4/10\n",
      "300/300 [==============================] - 80s 267ms/step - loss: 0.0358 - accuracy: 0.9885 - val_loss: 0.0243 - val_accuracy: 0.9918\n",
      "Epoch 5/10\n",
      "300/300 [==============================] - 75s 249ms/step - loss: 0.0237 - accuracy: 0.9922 - val_loss: 0.0246 - val_accuracy: 0.9924\n",
      "Epoch 6/10\n",
      "300/300 [==============================] - 76s 252ms/step - loss: 0.0228 - accuracy: 0.9929 - val_loss: 0.0247 - val_accuracy: 0.9915\n",
      "Epoch 7/10\n",
      "300/300 [==============================] - 75s 252ms/step - loss: 0.0197 - accuracy: 0.9937 - val_loss: 0.0261 - val_accuracy: 0.9913\n",
      "Epoch 8/10\n",
      "300/300 [==============================] - 72s 241ms/step - loss: 0.0182 - accuracy: 0.9945 - val_loss: 0.0222 - val_accuracy: 0.9928\n",
      "Epoch 9/10\n",
      "300/300 [==============================] - 76s 254ms/step - loss: 0.0162 - accuracy: 0.9948 - val_loss: 0.0233 - val_accuracy: 0.9928\n",
      "Epoch 10/10\n",
      "300/300 [==============================] - 90s 301ms/step - loss: 0.0122 - accuracy: 0.9959 - val_loss: 0.0229 - val_accuracy: 0.9928\n"
     ]
    },
    {
     "data": {
      "text/plain": [
       "<tensorflow.python.keras.callbacks.History at 0x14ea0b08430>"
      ]
     },
     "execution_count": 64,
     "metadata": {},
     "output_type": "execute_result"
    },
    {
     "data": {
      "image/png": "[encoded data removed]",
      "text/plain": [
       "<Figure size 432x288 with 1 Axes>"
      ]
     },
     "metadata": {
      "needs_background": "light"
     },
     "output_type": "display_data"
    }
   ],
   "source": [
    "#Importing the necessary packages\n",
    "import numpy as np\n",
    "import matplotlib.pyplot as plt\n",
    "from keras.datasets import mnist\n",
    "from keras.models import Sequential\n",
    "from keras.layers import Dense, Dropout, Flatten\n",
    "#Importing the CNN related layers as described in Chapter 2\n",
    "from keras.layers.convolutional import Conv2D, MaxPooling2D\n",
    "from keras.utils import np_utils\n",
    "#Loading data from Keras datasets\n",
    "(x_train, y_train), (x_test, y_test) = mnist.load_data()\n",
    "#Defining the height and weight and number of samples\n",
    "#Each Image is a 28 x 28 with 1 channel matrix\n",
    "training_samples, height, width = x_train.shape\n",
    "testing_samples,_,_ = x_test.shape\n",
    "print(\"Training Samples:\",training_samples)\n",
    "print(\"Testing Samples:\",testing_samples)\n",
    "print(\"Height: \"+str(height)+\" x Width:\"+ str(width))\n",
    "\n",
    "#Lets have a look at a sample image in the training data\n",
    "plt.imshow(x_train[0],cmap='gray', interpolation='none')\n",
    "#We now have to engineer the image data into the right form\n",
    "#For CNN, we would need the data in Height x Width X Channels\n",
    "#form Since the image is in grayscale, we will use channel = 1\n",
    "channel =1\n",
    "x_train = x_train.reshape(training_samples, height,\n",
    "width,channel).astype('float32')\n",
    "x_test = x_test.reshape(testing_samples, height, width,\n",
    "channel).astype('float32')\n",
    "# To improve the training process, we would need to standardize\n",
    "# or normalize the values We can achieve this using a simple\n",
    "# divide by 256 for all values\n",
    "x_train = x_train/255\n",
    "x_test =x_test/255\n",
    "#Total number of digits =10\n",
    "target_classes = 10\n",
    "# numbers 0-9, so ten classes\n",
    "n_classes = 10\n",
    "# convert integer labels into one-hot vectors\n",
    "y_train = np_utils.to_categorical(y_train, n_classes)\n",
    "y_test = np_utils.to_categorical(y_test, n_classes)\n",
    "#Designing the CNN Model\n",
    "model = Sequential()\n",
    "model.add(Conv2D(64, (5, 5), input_shape=(height,width ,1),\n",
    "activation='relu'))\n",
    "model.add(MaxPooling2D(pool_size=(2, 2)))\n",
    "model.add(Conv2D(64, (3, 3), activation='relu'))\n",
    "model.add(MaxPooling2D(pool_size=(2, 2)))\n",
    "model.add(Dropout(0.25))\n",
    "model.add(Flatten())\n",
    "model.add(Dense(128, activation='relu'))\n",
    "model.add(Dense(n_classes, activation='softmax'))\n",
    "# Compile model\n",
    "model.compile(loss='categorical_crossentropy',\n",
    "optimizer='adam', metrics=['accuracy'])\n",
    "# Fit the model\n",
    "model.fit(x_train, y_train, validation_data=(x_test, y_test),\n",
    "epochs=10, batch_size=200)"
   ]
  },
  {
   "cell_type": "code",
   "execution_count": 67,
   "metadata": {},
   "outputs": [
    {
     "name": "stdout",
     "output_type": "stream",
     "text": [
      "loss = 0.022928541526198387\n",
      "accuracy = 0.9927999973297119\n"
     ]
    }
   ],
   "source": [
    "metrics = model.evaluate(x_test, y_test, verbose=0)\n",
    "for i in range(0,len(model.metrics_names)):\n",
    "    print(str(model.metrics_names[i])+\" = \"+str(metrics[i]))"
   ]
  },
  {
   "cell_type": "code",
   "execution_count": 109,
   "metadata": {},
   "outputs": [
    {
     "name": "stdout",
     "output_type": "stream",
     "text": [
      "675 번째 테스트용 샘플:\n"
     ]
    },
    {
     "data": {
      "image/png": "[encoded data removed]",
      "text/plain": [
       "<Figure size 72x72 with 1 Axes>"
      ]
     },
     "metadata": {
      "needs_background": "light"
     },
     "output_type": "display_data"
    },
    {
     "name": "stdout",
     "output_type": "stream",
     "text": [
      "실제: 1\n",
      "예측결과: 1 \n",
      "\n",
      "833 번째 테스트용 샘플:\n"
     ]
    },
    {
     "data": {
      "image/png": "[encoded data removed]",
      "text/plain": [
       "<Figure size 72x72 with 1 Axes>"
      ]
     },
     "metadata": {
      "needs_background": "light"
     },
     "output_type": "display_data"
    },
    {
     "name": "stdout",
     "output_type": "stream",
     "text": [
      "실제: 9\n",
      "예측결과: 9 \n",
      "\n",
      "961 번째 테스트용 샘플:\n"
     ]
    },
    {
     "data": {
      "image/png": "[encoded data removed]",
      "text/plain": [
       "<Figure size 72x72 with 1 Axes>"
      ]
     },
     "metadata": {
      "needs_background": "light"
     },
     "output_type": "display_data"
    },
    {
     "name": "stdout",
     "output_type": "stream",
     "text": [
      "실제: 8\n",
      "예측결과: 8 \n",
      "\n"
     ]
    }
   ],
   "source": [
    "for i in range(3):\n",
    "    pick = np.random.randint(0,1000)\n",
    "    print(pick,'번째 테스트용 샘플:')\n",
    "    plt.rcParams[\"figure.figsize\"] = (1,1)\n",
    "    plt.imshow(x_test[pick],cmap='gray', interpolation='none')\n",
    "    plt.title(f'Test Data:{pick}')\n",
    "    plt.show()\n",
    "    print('실제:',np.argmax(y_test[pick]))\n",
    "    print('예측결과:',np.argmax(model.predict(x_test[pick].reshape(1,28,28,1))),'\\n')"
   ]
  },
  {
   "cell_type": "code",
   "execution_count": 156,
   "metadata": {
    "scrolled": true
   },
   "outputs": [
    {
     "name": "stdout",
     "output_type": "stream",
     "text": [
      "실제: 0   예측결과: 0\n",
      "실제: 1   예측결과: 1\n",
      "실제: 2   예측결과: 2\n",
      "실제: 3   예측결과: 3\n",
      "실제: 4   예측결과: 4\n",
      "실제: 5   예측결과: 5\n",
      "실제: 6   예측결과: 6\n",
      "실제: 7   예측결과: 7\n",
      "실제: 8   예측결과: 8\n",
      "실제: 9   예측결과: 4\n"
     ]
    },
    {
     "data": {
      "image/png": "[encoded data removed]",
      "text/plain": [
       "<Figure size 288x144 with 10 Axes>"
      ]
     },
     "metadata": {
      "needs_background": "light"
     },
     "output_type": "display_data"
    }
   ],
   "source": [
    "from matplotlib import pyplot\n",
    "\n",
    "for i in range(10):\n",
    "    pyplot.subplot(2,5,i+1)\n",
    "    \n",
    "    img = Image.open(str(i)+'.bmp')\n",
    "    \n",
    "    plt.rcParams[\"figure.figsize\"] = (4,4)\n",
    "    pix_arr = np.array(img)\n",
    "    plt.imshow(pix_arr,cmap='gray', interpolation='none')\n",
    "    pred = np.argmax(model.predict(pix_arr.reshape(1,28,28,1)))\n",
    "    print('실제:',i,'  예측결과:',pred)\n",
    "plt.show()\n"
   ]
  },
  {
   "cell_type": "code",
   "execution_count": null,
   "metadata": {},
   "outputs": [],
   "source": [
    "from matplotlib import pyplot\n",
    "from matplotlib.image import imread\n",
    "# define location of dataset\n",
    "folder = 'train/'\n",
    "for i in range(9):\n",
    "    pyplot.subplot(331+i)\n",
    "    filename = folder+'dog.'+str(i)+'.jpg'\n",
    "    image = imread(filename)\n",
    "    pyplot.imshow(image)\n",
    "pyplot.show()"
   ]
  }
 ],
 "metadata": {
  "kernelspec": {
   "display_name": "Python 3",
   "language": "python",
   "name": "python3"
  },
  "language_info": {
   "codemirror_mode": {
    "name": "ipython",
    "version": 3
   },
   "file_extension": ".py",
   "mimetype": "text/x-python",
   "name": "python",
   "nbconvert_exporter": "python",
   "pygments_lexer": "ipython3",
   "version": "3.8.5"
  }
 },
 "nbformat": 4,
 "nbformat_minor": 4
}
