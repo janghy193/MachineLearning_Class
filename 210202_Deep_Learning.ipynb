{
 "cells": [
  {
   "cell_type": "code",
   "execution_count": 4,
   "metadata": {},
   "outputs": [
    {
     "name": "stdout",
     "output_type": "stream",
     "text": [
      "Epoch 1/10\n",
      "32/32 [==============================] - 2s 2ms/step - loss: 0.7088 - accuracy: 0.4525\n",
      "Epoch 2/10\n",
      "32/32 [==============================] - 0s 2ms/step - loss: 0.6980 - accuracy: 0.4854\n",
      "Epoch 3/10\n",
      "32/32 [==============================] - 0s 2ms/step - loss: 0.6941 - accuracy: 0.5142\n",
      "Epoch 4/10\n",
      "32/32 [==============================] - 0s 2ms/step - loss: 0.6982 - accuracy: 0.4624\n",
      "Epoch 5/10\n",
      "32/32 [==============================] - 0s 1ms/step - loss: 0.6953 - accuracy: 0.4996\n",
      "Epoch 6/10\n",
      "32/32 [==============================] - 0s 2ms/step - loss: 0.6942 - accuracy: 0.5046\n",
      "Epoch 7/10\n",
      "32/32 [==============================] - 0s 2ms/step - loss: 0.6952 - accuracy: 0.4991\n",
      "Epoch 8/10\n",
      "32/32 [==============================] - 0s 2ms/step - loss: 0.6933 - accuracy: 0.5208\n",
      "Epoch 9/10\n",
      "32/32 [==============================] - 0s 2ms/step - loss: 0.6947 - accuracy: 0.5103\n",
      "Epoch 10/10\n",
      "32/32 [==============================] - 0s 2ms/step - loss: 0.6948 - accuracy: 0.5132\n"
     ]
    }
   ],
   "source": [
    "#Import required packages\n",
    "from keras.models import Sequential\n",
    "from keras.layers import Dense\n",
    "import numpy as np\n",
    "# Getting the data ready\n",
    "# Generate train dummy data for 1000 Students and dummy test for 500\n",
    "#Columns :Age, Hours of Study &Avg Previous test scores np.random.seed(2018). #Setting seed for reproducibility\n",
    "train_data, test_data = np.random.random((1000, 3)), np.random.random((500, 3))\n",
    "#Generate dummy results for 1000 students : Whether Passed (1) or Failed (0)\n",
    "labels = np.random.randint(2, size=(1000, 1))\n",
    "#Defining the model structure with the required layers, # of neurons, activation function and optimizers\n",
    "model = Sequential()\n",
    "model.add(Dense(5, input_dim=3, activation='relu'))\n",
    "model.add(Dense(4, activation='relu'))\n",
    "model.add(Dense(1, activation='sigmoid'))\n",
    "model.compile(loss='binary_crossentropy', optimizer='adam',\n",
    "metrics=['accuracy'])\n",
    "#Train the model and make predictions\n",
    "model.fit(train_data, labels, epochs=10, batch_size=32)\n",
    "#Make predictions from the trained model\n",
    "predictions = model.predict(test_data)"
   ]
  },
  {
   "cell_type": "code",
   "execution_count": 5,
   "metadata": {},
   "outputs": [
    {
     "ename": "SyntaxError",
     "evalue": "invalid syntax (<ipython-input-5-e18c6ee3fad7>, line 12)",
     "output_type": "error",
     "traceback": [
      "\u001b[1;36m  File \u001b[1;32m\"<ipython-input-5-e18c6ee3fad7>\"\u001b[1;36m, line \u001b[1;32m12\u001b[0m\n\u001b[1;33m    y_train = y[:1000]\u001b[0m\n\u001b[1;37m            ^\u001b[0m\n\u001b[1;31mSyntaxError\u001b[0m\u001b[1;31m:\u001b[0m invalid syntax\n"
     ]
    }
   ],
   "source": [
    "import numpy as np\n",
    "from keras.models import Sequential\n",
    "from keras.layers import Dense, Activation\n",
    "\n",
    "def make_data(x1,x2):\n",
    "    return 3.7*x1 + 2.3*x2 + 5.6\n",
    "\n",
    "x = np.random.random((1200,2))\n",
    "y = [make_data(e[0],e[1]) for e in x]\n",
    "\n",
    "x_train = x[:1000, \n",
    "y_train = y[:1000]\n",
    "x_test = x[1000:, \n",
    "y_test = y[1000 \n",
    "\n",
    "model = Sequential()\n",
    "model.add(Dense(64, input_dim=2)) # input_dim= features 수(컬럼 수)\n",
    "model.add(Dense(32))  # 아래의 레이어를 제거할 때 더 정확했음\n",
    "#model.add(Dense(16))\n",
    "#model.add(Dense(8))\n",
    "#model.add(Dense(4))\n",
    "model.add(Dense(1))\n",
    "\n",
    "model.compile(loss='mean_absolute_error', optimizer='adam',metrics=['accuracy'])\n",
    "\n",
    "label_train = np.array(y_train).reshape(-1,1)\n",
    "label_test = np.array(y_test).reshape(-1,1)\n",
    "\n",
    "# 배치 사이즈는 학습용 데이터를 일정 크기로 잘라서 입력하는 것인데, 너무 작으면\n",
    "# 학습시간이 많이 소요되고, 너무 크면 학습이 잘 안되어 정확도가 떨어진다\n",
    "model.fit(x_train, label_train, batch_size=64, \n",
    "          epochs=30,validation_data=(x_test, label_test))\n",
    "\n",
    "print(model.evaluate(x_test,label_test))\n",
    "print(model.metrics_names)\n",
    "\n",
    "print('실제:', make_data(3.5, 2.7))\n",
    "pred = model.predict([[3.5, 2.7]])\n",
    "print('추정:', pred)\n",
    "\n",
    "print('실제:', make_data(3.2, 3.8))\n",
    "pred = model.predict([[3.2, 3.8]])\n",
    "print('추정:', pred)"
   ]
  }
 ],
 "metadata": {
  "kernelspec": {
   "display_name": "Python 3",
   "language": "python",
   "name": "python3"
  },
  "language_info": {
   "codemirror_mode": {
    "name": "ipython",
    "version": 3
   },
   "file_extension": ".py",
   "mimetype": "text/x-python",
   "name": "python",
   "nbconvert_exporter": "python",
   "pygments_lexer": "ipython3",
   "version": "3.8.5"
  }
 },
 "nbformat": 4,
 "nbformat_minor": 4
}
