{
 "cells": [
  {
   "cell_type": "code",
   "execution_count": 9,
   "metadata": {},
   "outputs": [
    {
     "name": "stdout",
     "output_type": "stream",
     "text": [
      "Index(['userId', 'movieId', 'rating', 'timestamp'], dtype='object') \n",
      " Index(['movieId', 'title', 'genres'], dtype='object')\n"
     ]
    }
   ],
   "source": [
    "import pandas as pd\n",
    "import numpy as np\n",
    "from surprise import Dataset, Reader\n",
    "from surprise.model_selection import train_test_split\n",
    "\n",
    "movies_df = pd.read_csv(\"movies.csv\")\n",
    "ratings_df = pd.read_csv(\"ratings.csv\")\n",
    "\n",
    "print(ratings_df.columns,'\\n',movies_df.columns)\n"
   ]
  },
  {
   "cell_type": "code",
   "execution_count": 11,
   "metadata": {},
   "outputs": [],
   "source": [
    "# suprise 의 데이터는 user-item-ratings 으로 구성해야 한다\n",
    "from surprise.dataset import DatasetAutoFolds\n",
    "\n",
    "reader = Reader(line_format='user item rating timestamp', sep=',', rating_scale=(0.5, 5))\n",
    "\n",
    "# 학습 후 검증을 위한 데이터 준비\n",
    "data = Dataset.load_from_df( ratings_df[['userId','movieId','rating']], reader=reader)\n",
    "trainset, testset = train_test_split(data, test_size=.25)"
   ]
  },
  {
   "cell_type": "code",
   "execution_count": 19,
   "metadata": {
    "scrolled": true
   },
   "outputs": [
    {
     "data": {
      "text/plain": [
       "[Prediction(uid=69, iid=3948, r_ui=3.5, est=4.058774097011802, details={'was_impossible': False}),\n",
       " Prediction(uid=564, iid=442, r_ui=3.0, est=3.5111158361967307, details={'was_impossible': False}),\n",
       " Prediction(uid=358, iid=419, r_ui=1.0, est=2.890052919605346, details={'was_impossible': False}),\n",
       " Prediction(uid=452, iid=4866, r_ui=2.0, est=3.1897486557955697, details={'was_impossible': False}),\n",
       " Prediction(uid=15, iid=1060, r_ui=4.0, est=3.8719839520304618, details={'was_impossible': False})]"
      ]
     },
     "execution_count": 19,
     "metadata": {},
     "output_type": "execute_result"
    }
   ],
   "source": [
    "# SVD 행렬분해(Matrix Factorization) 알고리즘 생성 및 학습\n",
    "svd = SVD(n_factors=50, n_epochs=20, random_state=42)\n",
    "svd.fit(trainset)\n",
    "\n",
    "# 학습된 모델 검증\n",
    "test_res = svd.test(testset)\n",
    "test_res[:5]\n"
   ]
  },
  {
   "cell_type": "code",
   "execution_count": 16,
   "metadata": {},
   "outputs": [
    {
     "name": "stdout",
     "output_type": "stream",
     "text": [
      "RMSE: 0.8890\n"
     ]
    },
    {
     "data": {
      "text/plain": [
       "0.8890219421028068"
      ]
     },
     "execution_count": 16,
     "metadata": {},
     "output_type": "execute_result"
    }
   ],
   "source": [
    "from surprise import accuracy\n",
    "\n",
    "# 검증결과 정확도 Root-mean square error (RMSE)\n",
    "accuracy.rmse(test_res)"
   ]
  },
  {
   "cell_type": "code",
   "execution_count": 21,
   "metadata": {},
   "outputs": [
    {
     "data": {
      "text/plain": [
       "Prediction(uid='1', iid='1', r_ui=None, est=3.5425782968681254, details={'was_impossible': False})"
      ]
     },
     "execution_count": 21,
     "metadata": {},
     "output_type": "execute_result"
    }
   ],
   "source": [
    "res = [(pred.uid, pred.iid, pred.est, pred.r_ui) for pred in test_res[:10]]\n",
    "res\n",
    "\n",
    "# 1번 이용자의 1번 영화에 대한 점수 추정\n",
    "pred = svd.predict('1','1')\n",
    "pred"
   ]
  }
 ],
 "metadata": {
  "kernelspec": {
   "display_name": "Python 3",
   "language": "python",
   "name": "python3"
  },
  "language_info": {
   "codemirror_mode": {
    "name": "ipython",
    "version": 3
   },
   "file_extension": ".py",
   "mimetype": "text/x-python",
   "name": "python",
   "nbconvert_exporter": "python",
   "pygments_lexer": "ipython3",
   "version": "3.8.5"
  }
 },
 "nbformat": 4,
 "nbformat_minor": 4
}
